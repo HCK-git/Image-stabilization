{
 "cells": [
  {
   "cell_type": "code",
   "execution_count": 2,
   "id": "66f98606",
   "metadata": {},
   "outputs": [],
   "source": [
    "import cv2"
   ]
  },
  {
   "cell_type": "code",
   "execution_count": 3,
   "id": "96de2a19",
   "metadata": {},
   "outputs": [],
   "source": [
    "cap = cv2.VideoCapture(0)\n",
    "cap.set(3,1280)\n",
    "cap.set(4,800)\n",
    "\n",
    "width = 0\n",
    "height = 0\n",
    "\n",
    "ret, frame1 = cap.read()\n",
    "ret, frame2 = cap.read()\n",
    "\n",
    "feature_params = dict( maxCorners = 100,\n",
    "                       qualityLevel = 0.3,\n",
    "                       minDistance = 7,\n",
    "                       blockSize = 7 )\n",
    "lk_params = dict( winSize  = (15,15),\n",
    "                  maxLevel = 2,\n",
    "                  criteria = (cv2.TERM_CRITERIA_EPS | cv2.TERM_CRITERIA_COUNT, 10, 0.03))\n",
    "\n",
    "p0 = cv2.goodFeaturesToTrack(cv2.cvtColor(frame1, cv2.COLOR_BGR2GRAY), mask = None, **feature_params)\n",
    "\n",
    "\n",
    "\n",
    "while cap.isOpened():\n",
    "    p1, st, err = cv2.calcOpticalFlowPyrLK(cv2.cvtColor(frame1, cv2.COLOR_BGR2GRAY), cv2.cvtColor(frame2, cv2.COLOR_BGR2GRAY), p0, None, **lk_params)\n",
    "\n",
    "    if p1.shape[0] < 2:\n",
    "        p0 = cv2.goodFeaturesToTrack(cv2.cvtColor(frame1, cv2.COLOR_BGR2GRAY), mask = None, **feature_params)\n",
    "        width = 0\n",
    "        height = 0\n",
    "        p1, st, err = cv2.calcOpticalFlowPyrLK(cv2.cvtColor(frame1, cv2.COLOR_BGR2GRAY), cv2.cvtColor(frame2, cv2.COLOR_BGR2GRAY), p0, None, **lk_params)\n",
    "\n",
    "    new_corners = p1[st==1]\n",
    "    old_corner = p0[st==1]\n",
    "    \n",
    "    width += new_corners[0][0] - old_corner[0][0]\n",
    "    height += new_corners[0][1] - old_corner[0][1]\n",
    "    \n",
    "\n",
    "    if width >= 0:\n",
    "        cv2.rectangle(frame1, (0, 0), (int(width), frame1.shape[0]), (0, 255, 0), -1)\n",
    "    else:\n",
    "        cv2.rectangle(frame1, (frame1.shape[1] - int(-width), 0), (frame1.shape[1], frame1.shape[0]), (0, 255, 0), -1)\n",
    "    \n",
    "    if height >= 0:\n",
    "        cv2.rectangle(frame1, (0, 0), (frame1.shape[1], int(height)), (0, 255, 0), -1)\n",
    "    else:\n",
    "        cv2.rectangle(frame1, (0, frame1.shape[0] - int(-height)), (frame1.shape[1], frame1.shape[0]), (0, 255, 0), -1)\n",
    "   \n",
    "    cv2.imshow('Stabilized', frame1)                \n",
    "    \n",
    "    frame1 = frame2\n",
    "    ret, frame2 = cap.read()\n",
    "    p0 = new_corners.reshape(-1,1,2)\n",
    "    \n",
    "    key = cv2.waitKey(1)\n",
    "    if key == 27:  \n",
    "        break\n",
    "    elif key == 114:\n",
    "        p0 = cv2.goodFeaturesToTrack(cv2.cvtColor(frame1, cv2.COLOR_BGR2GRAY), mask = None, **feature_params)\n",
    "        width = 0\n",
    "        height = 0\n",
    "\n",
    "cap.release()\n",
    "cv2.destroyAllWindows()"
   ]
  },
  {
   "cell_type": "code",
   "execution_count": 1,
   "id": "a390a389",
   "metadata": {},
   "outputs": [],
   "source": [
    "from vidstab import VidStab\n",
    "\n",
    "stabilizer = VidStab()\n",
    "stabilizer.stabilize(input_path=0,\n",
    "                     output_path='stable_webcam.avi',\n",
    "                     max_frames=1000,\n",
    "                     playback=True)"
   ]
  },
  {
   "cell_type": "code",
   "execution_count": 2,
   "id": "a28e53a0",
   "metadata": {},
   "outputs": [],
   "source": []
  }
 ],
 "metadata": {
  "kernelspec": {
   "display_name": "Python 3 (ipykernel)",
   "language": "python",
   "name": "python3"
  },
  "language_info": {
   "codemirror_mode": {
    "name": "ipython",
    "version": 3
   },
   "file_extension": ".py",
   "mimetype": "text/x-python",
   "name": "python",
   "nbconvert_exporter": "python",
   "pygments_lexer": "ipython3",
   "version": "3.9.13"
  }
 },
 "nbformat": 4,
 "nbformat_minor": 5
}
